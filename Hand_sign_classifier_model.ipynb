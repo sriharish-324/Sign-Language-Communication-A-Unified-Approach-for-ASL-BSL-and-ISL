{
 "cells": [
  {
   "cell_type": "code",
   "execution_count": 1,
   "metadata": {
    "id": "igMyGnjE9hEp"
   },
   "outputs": [],
   "source": [
    "import csv\n",
    "import numpy as np\n",
    "import tensorflow as tf\n",
    "from sklearn.model_selection import train_test_split\n",
    "\n",
    "RANDOM_SEED = 42"
   ]
  },
  {
   "cell_type": "markdown",
   "metadata": {
    "id": "t2HDvhIu9hEr"
   },
   "source": [
    "# Specify each path"
   ]
  },
  {
   "cell_type": "code",
   "execution_count": 2,
   "metadata": {
    "id": "9NvZP2Zn9hEy"
   },
   "outputs": [],
   "source": [
    "dataset = 'model/Hand_Sign/Handkey.csv'\n",
    "model_save_path = 'model/Hand_Sign/HandSignclassifier.hdf5'\n",
    "tflite_save_path = 'model/Hand_Sign/HandSignTF.tflite'"
   ]
  },
  {
   "cell_type": "markdown",
   "metadata": {
    "id": "s5oMH7x19hEz"
   },
   "source": [
    "# Set number of classes"
   ]
  },
  {
   "cell_type": "code",
   "execution_count": 3,
   "metadata": {
    "id": "du4kodXL9hEz"
   },
   "outputs": [],
   "source": [
    "NUM_CLASSES = 5"
   ]
  },
  {
   "cell_type": "markdown",
   "metadata": {
    "id": "XjnL0uso9hEz"
   },
   "source": [
    "# Dataset reading"
   ]
  },
  {
   "cell_type": "code",
   "execution_count": 4,
   "metadata": {
    "id": "QT5ZqtEz9hE0"
   },
   "outputs": [],
   "source": [
    "X_dataset = np.loadtxt(dataset, delimiter=',', dtype='float32', usecols=list(range(1, (21 * 2) + 1)))"
   ]
  },
  {
   "cell_type": "code",
   "execution_count": 5,
   "metadata": {
    "id": "QmoKFsp49hE0"
   },
   "outputs": [],
   "source": [
    "y_dataset = np.loadtxt(dataset, delimiter=',', dtype='int32', usecols=(0))"
   ]
  },
  {
   "cell_type": "code",
   "execution_count": 6,
   "metadata": {
    "id": "xQU7JTZ_9hE0"
   },
   "outputs": [],
   "source": [
    "X_train, X_test, y_train, y_test = train_test_split(X_dataset, y_dataset, train_size=0.75, random_state=RANDOM_SEED)"
   ]
  },
  {
   "cell_type": "markdown",
   "metadata": {
    "id": "mxK_lETT9hE0"
   },
   "source": [
    "# Model building"
   ]
  },
  {
   "cell_type": "code",
   "execution_count": 7,
   "metadata": {
    "id": "vHBmUf1t9hE1"
   },
   "outputs": [],
   "source": [
    "model = tf.keras.models.Sequential([\n",
    "    tf.keras.layers.Input((21 * 2, )),\n",
    "    tf.keras.layers.Dropout(0.2),\n",
    "    tf.keras.layers.Dense(20, activation='relu'),\n",
    "    tf.keras.layers.Dropout(0.4),\n",
    "    tf.keras.layers.Dense(10, activation='relu'),\n",
    "    tf.keras.layers.Dense(NUM_CLASSES, activation='softmax')\n",
    "])"
   ]
  },
  {
   "cell_type": "code",
   "execution_count": 8,
   "metadata": {
    "colab": {
     "base_uri": "https://localhost:8080/"
    },
    "id": "ypqky9tc9hE1",
    "outputId": "5db082bb-30e3-4110-bf63-a1ee777ecd46"
   },
   "outputs": [
    {
     "name": "stdout",
     "output_type": "stream",
     "text": [
      "Model: \"sequential\"\n",
      "_________________________________________________________________\n",
      " Layer (type)                Output Shape              Param #   \n",
      "=================================================================\n",
      " dropout (Dropout)           (None, 42)                0         \n",
      "                                                                 \n",
      " dense (Dense)               (None, 20)                860       \n",
      "                                                                 \n",
      " dropout_1 (Dropout)         (None, 20)                0         \n",
      "                                                                 \n",
      " dense_1 (Dense)             (None, 10)                210       \n",
      "                                                                 \n",
      " dense_2 (Dense)             (None, 5)                 55        \n",
      "                                                                 \n",
      "=================================================================\n",
      "Total params: 1125 (4.39 KB)\n",
      "Trainable params: 1125 (4.39 KB)\n",
      "Non-trainable params: 0 (0.00 Byte)\n",
      "_________________________________________________________________\n"
     ]
    }
   ],
   "source": [
    "model.summary()  # tf.keras.utils.plot_model(model, show_shapes=True)"
   ]
  },
  {
   "cell_type": "code",
   "execution_count": 9,
   "metadata": {
    "id": "MbMjOflQ9hE1"
   },
   "outputs": [],
   "source": [
    "# Model checkpoint callback\n",
    "cp_callback = tf.keras.callbacks.ModelCheckpoint(\n",
    "    model_save_path, verbose=1, save_weights_only=False)\n",
    "# Callback for early stopping\n",
    "es_callback = tf.keras.callbacks.EarlyStopping(patience=20, verbose=1)"
   ]
  },
  {
   "cell_type": "code",
   "execution_count": 10,
   "metadata": {
    "id": "c3Dac0M_9hE2"
   },
   "outputs": [],
   "source": [
    "# Model compilation\n",
    "model.compile(\n",
    "    optimizer='adam',\n",
    "    loss='sparse_categorical_crossentropy',\n",
    "    metrics=['accuracy']\n",
    ")"
   ]
  },
  {
   "cell_type": "markdown",
   "metadata": {
    "id": "7XI0j1Iu9hE2"
   },
   "source": [
    "# Model training"
   ]
  },
  {
   "cell_type": "code",
   "execution_count": 11,
   "metadata": {
    "colab": {
     "base_uri": "https://localhost:8080/"
    },
    "id": "WirBl-JE9hE3",
    "outputId": "71b30ca2-8294-4d9d-8aa2-800d90d399de",
    "scrolled": true
   },
   "outputs": [
    {
     "name": "stdout",
     "output_type": "stream",
     "text": [
      "Epoch 1/1000\n",
      "24/29 [=======================>......] - ETA: 0s - loss: 1.8591 - accuracy: 0.1543\n",
      "Epoch 1: saving model to model/keypoint_classifier\\keypoint_classifier.hdf5\n",
      "29/29 [==============================] - 1s 17ms/step - loss: 1.8360 - accuracy: 0.1563 - val_loss: 1.5646 - val_accuracy: 0.2097\n",
      "Epoch 2/1000\n",
      "26/29 [=========================>....] - ETA: 0s - loss: 1.5818 - accuracy: 0.2344"
     ]
    },
    {
     "name": "stderr",
     "output_type": "stream",
     "text": [
      "c:\\Users\\sriha\\AppData\\Local\\Programs\\Python\\Python310\\lib\\site-packages\\keras\\src\\engine\\training.py:3079: UserWarning: You are saving your model as an HDF5 file via `model.save()`. This file format is considered legacy. We recommend using instead the native Keras format, e.g. `model.save('my_model.keras')`.\n",
      "  saving_api.save_model(\n"
     ]
    },
    {
     "name": "stdout",
     "output_type": "stream",
     "text": [
      "\n",
      "Epoch 2: saving model to model/keypoint_classifier\\keypoint_classifier.hdf5\n",
      "29/29 [==============================] - 0s 9ms/step - loss: 1.5792 - accuracy: 0.2351 - val_loss: 1.4633 - val_accuracy: 0.3467\n",
      "Epoch 3/1000\n",
      "28/29 [===========================>..] - ETA: 0s - loss: 1.4802 - accuracy: 0.3309\n",
      "Epoch 3: saving model to model/keypoint_classifier\\keypoint_classifier.hdf5\n",
      "29/29 [==============================] - 0s 8ms/step - loss: 1.4804 - accuracy: 0.3306 - val_loss: 1.3914 - val_accuracy: 0.4528\n",
      "Epoch 4/1000\n",
      "21/29 [====================>.........] - ETA: 0s - loss: 1.4059 - accuracy: 0.3843\n",
      "Epoch 4: saving model to model/keypoint_classifier\\keypoint_classifier.hdf5\n",
      "29/29 [==============================] - 0s 9ms/step - loss: 1.4002 - accuracy: 0.3864 - val_loss: 1.3218 - val_accuracy: 0.5021\n",
      "Epoch 5/1000\n",
      "16/29 [===============>..............] - ETA: 0s - loss: 1.3461 - accuracy: 0.4141\n",
      "Epoch 5: saving model to model/keypoint_classifier\\keypoint_classifier.hdf5\n",
      "29/29 [==============================] - 0s 7ms/step - loss: 1.3420 - accuracy: 0.4109 - val_loss: 1.2563 - val_accuracy: 0.5196\n",
      "Epoch 6/1000\n",
      "27/29 [==========================>...] - ETA: 0s - loss: 1.2901 - accuracy: 0.4317\n",
      "Epoch 6: saving model to model/keypoint_classifier\\keypoint_classifier.hdf5\n",
      "29/29 [==============================] - 0s 8ms/step - loss: 1.2882 - accuracy: 0.4337 - val_loss: 1.1960 - val_accuracy: 0.5230\n",
      "Epoch 7/1000\n",
      "16/29 [===============>..............] - ETA: 0s - loss: 1.2411 - accuracy: 0.4497\n",
      "Epoch 7: saving model to model/keypoint_classifier\\keypoint_classifier.hdf5\n",
      "29/29 [==============================] - 0s 7ms/step - loss: 1.2431 - accuracy: 0.4460 - val_loss: 1.1371 - val_accuracy: 0.5556\n",
      "Epoch 8/1000\n",
      "27/29 [==========================>...] - ETA: 0s - loss: 1.1873 - accuracy: 0.4803\n",
      "Epoch 8: saving model to model/keypoint_classifier\\keypoint_classifier.hdf5\n",
      "29/29 [==============================] - 0s 7ms/step - loss: 1.1846 - accuracy: 0.4808 - val_loss: 1.0776 - val_accuracy: 0.5748\n",
      "Epoch 9/1000\n",
      "16/29 [===============>..............] - ETA: 0s - loss: 1.1548 - accuracy: 0.4966\n",
      "Epoch 9: saving model to model/keypoint_classifier\\keypoint_classifier.hdf5\n",
      "29/29 [==============================] - 0s 7ms/step - loss: 1.1359 - accuracy: 0.5081 - val_loss: 1.0093 - val_accuracy: 0.7026\n",
      "Epoch 10/1000\n",
      "20/29 [===================>..........] - ETA: 0s - loss: 1.0862 - accuracy: 0.5359\n",
      "Epoch 10: saving model to model/keypoint_classifier\\keypoint_classifier.hdf5\n",
      "29/29 [==============================] - 0s 7ms/step - loss: 1.0894 - accuracy: 0.5270 - val_loss: 0.9445 - val_accuracy: 0.7268\n",
      "Epoch 11/1000\n",
      "16/29 [===============>..............] - ETA: 0s - loss: 1.0813 - accuracy: 0.5220\n",
      "Epoch 11: saving model to model/keypoint_classifier\\keypoint_classifier.hdf5\n",
      "29/29 [==============================] - 0s 6ms/step - loss: 1.0572 - accuracy: 0.5306 - val_loss: 0.8971 - val_accuracy: 0.7268\n",
      "Epoch 12/1000\n",
      "29/29 [==============================] - ETA: 0s - loss: 1.0263 - accuracy: 0.5543\n",
      "Epoch 12: saving model to model/keypoint_classifier\\keypoint_classifier.hdf5\n",
      "29/29 [==============================] - 0s 8ms/step - loss: 1.0263 - accuracy: 0.5543 - val_loss: 0.8498 - val_accuracy: 0.7427\n",
      "Epoch 13/1000\n",
      "18/29 [=================>............] - ETA: 0s - loss: 0.9949 - accuracy: 0.5668\n",
      "Epoch 13: saving model to model/keypoint_classifier\\keypoint_classifier.hdf5\n",
      "29/29 [==============================] - 0s 8ms/step - loss: 0.9898 - accuracy: 0.5641 - val_loss: 0.7963 - val_accuracy: 0.7577\n",
      "Epoch 14/1000\n",
      "14/29 [=============>................] - ETA: 0s - loss: 0.9692 - accuracy: 0.5781\n",
      "Epoch 14: saving model to model/keypoint_classifier\\keypoint_classifier.hdf5\n",
      "29/29 [==============================] - 0s 7ms/step - loss: 0.9607 - accuracy: 0.5783 - val_loss: 0.7615 - val_accuracy: 0.7703\n",
      "Epoch 15/1000\n",
      "18/29 [=================>............] - ETA: 0s - loss: 0.9284 - accuracy: 0.5885\n",
      "Epoch 15: saving model to model/keypoint_classifier\\keypoint_classifier.hdf5\n",
      "29/29 [==============================] - 0s 7ms/step - loss: 0.9332 - accuracy: 0.5864 - val_loss: 0.7299 - val_accuracy: 0.7853\n",
      "Epoch 16/1000\n",
      "16/29 [===============>..............] - ETA: 0s - loss: 0.9257 - accuracy: 0.5781\n",
      "Epoch 16: saving model to model/keypoint_classifier\\keypoint_classifier.hdf5\n",
      "29/29 [==============================] - 0s 7ms/step - loss: 0.9209 - accuracy: 0.5847 - val_loss: 0.7027 - val_accuracy: 0.7895\n",
      "Epoch 17/1000\n",
      "18/29 [=================>............] - ETA: 0s - loss: 0.9037 - accuracy: 0.5968\n",
      "Epoch 17: saving model to model/keypoint_classifier\\keypoint_classifier.hdf5\n",
      "29/29 [==============================] - 0s 6ms/step - loss: 0.8954 - accuracy: 0.6017 - val_loss: 0.6763 - val_accuracy: 0.8028\n",
      "Epoch 18/1000\n",
      "21/29 [====================>.........] - ETA: 0s - loss: 0.8856 - accuracy: 0.6172\n",
      "Epoch 18: saving model to model/keypoint_classifier\\keypoint_classifier.hdf5\n",
      "29/29 [==============================] - 0s 7ms/step - loss: 0.8718 - accuracy: 0.6237 - val_loss: 0.6501 - val_accuracy: 0.8120\n",
      "Epoch 19/1000\n",
      "18/29 [=================>............] - ETA: 0s - loss: 0.8660 - accuracy: 0.6233\n",
      "Epoch 19: saving model to model/keypoint_classifier\\keypoint_classifier.hdf5\n",
      "29/29 [==============================] - 0s 9ms/step - loss: 0.8624 - accuracy: 0.6209 - val_loss: 0.6278 - val_accuracy: 0.8246\n",
      "Epoch 20/1000\n",
      "13/29 [============>.................] - ETA: 0s - loss: 0.8584 - accuracy: 0.6352\n",
      "Epoch 20: saving model to model/keypoint_classifier\\keypoint_classifier.hdf5\n",
      "29/29 [==============================] - 0s 7ms/step - loss: 0.8543 - accuracy: 0.6329 - val_loss: 0.6092 - val_accuracy: 0.8254\n",
      "Epoch 21/1000\n",
      "20/29 [===================>..........] - ETA: 0s - loss: 0.8446 - accuracy: 0.6391\n",
      "Epoch 21: saving model to model/keypoint_classifier\\keypoint_classifier.hdf5\n",
      "29/29 [==============================] - 0s 6ms/step - loss: 0.8365 - accuracy: 0.6390 - val_loss: 0.5964 - val_accuracy: 0.8262\n",
      "Epoch 22/1000\n",
      "15/29 [==============>...............] - ETA: 0s - loss: 0.8219 - accuracy: 0.6401\n",
      "Epoch 22: saving model to model/keypoint_classifier\\keypoint_classifier.hdf5\n",
      "29/29 [==============================] - 0s 7ms/step - loss: 0.8231 - accuracy: 0.6401 - val_loss: 0.5813 - val_accuracy: 0.8354\n",
      "Epoch 23/1000\n",
      "18/29 [=================>............] - ETA: 0s - loss: 0.8330 - accuracy: 0.6389\n",
      "Epoch 23: saving model to model/keypoint_classifier\\keypoint_classifier.hdf5\n",
      "29/29 [==============================] - 0s 6ms/step - loss: 0.8285 - accuracy: 0.6423 - val_loss: 0.5681 - val_accuracy: 0.8421\n",
      "Epoch 24/1000\n",
      "19/29 [==================>...........] - ETA: 0s - loss: 0.8249 - accuracy: 0.6357\n",
      "Epoch 24: saving model to model/keypoint_classifier\\keypoint_classifier.hdf5\n",
      "29/29 [==============================] - 0s 6ms/step - loss: 0.8154 - accuracy: 0.6429 - val_loss: 0.5615 - val_accuracy: 0.8530\n",
      "Epoch 25/1000\n",
      "21/29 [====================>.........] - ETA: 0s - loss: 0.7786 - accuracy: 0.6551\n",
      "Epoch 25: saving model to model/keypoint_classifier\\keypoint_classifier.hdf5\n",
      "29/29 [==============================] - 0s 6ms/step - loss: 0.7927 - accuracy: 0.6479 - val_loss: 0.5429 - val_accuracy: 0.8622\n",
      "Epoch 26/1000\n",
      "19/29 [==================>...........] - ETA: 0s - loss: 0.7817 - accuracy: 0.6554\n",
      "Epoch 26: saving model to model/keypoint_classifier\\keypoint_classifier.hdf5\n",
      "29/29 [==============================] - 0s 6ms/step - loss: 0.7832 - accuracy: 0.6591 - val_loss: 0.5380 - val_accuracy: 0.8647\n",
      "Epoch 27/1000\n",
      "21/29 [====================>.........] - ETA: 0s - loss: 0.7784 - accuracy: 0.6652\n",
      "Epoch 27: saving model to model/keypoint_classifier\\keypoint_classifier.hdf5\n",
      "29/29 [==============================] - 0s 6ms/step - loss: 0.7845 - accuracy: 0.6585 - val_loss: 0.5248 - val_accuracy: 0.8722\n",
      "Epoch 28/1000\n",
      "18/29 [=================>............] - ETA: 0s - loss: 0.7673 - accuracy: 0.6602\n",
      "Epoch 28: saving model to model/keypoint_classifier\\keypoint_classifier.hdf5\n",
      "29/29 [==============================] - 0s 6ms/step - loss: 0.7605 - accuracy: 0.6699 - val_loss: 0.5101 - val_accuracy: 0.8764\n",
      "Epoch 29/1000\n",
      "26/29 [=========================>....] - ETA: 0s - loss: 0.7584 - accuracy: 0.6698\n",
      "Epoch 29: saving model to model/keypoint_classifier\\keypoint_classifier.hdf5\n",
      "29/29 [==============================] - 0s 5ms/step - loss: 0.7615 - accuracy: 0.6655 - val_loss: 0.5056 - val_accuracy: 0.8722\n",
      "Epoch 30/1000\n",
      "21/29 [====================>.........] - ETA: 0s - loss: 0.7429 - accuracy: 0.6696\n",
      "Epoch 30: saving model to model/keypoint_classifier\\keypoint_classifier.hdf5\n",
      "29/29 [==============================] - 0s 7ms/step - loss: 0.7517 - accuracy: 0.6635 - val_loss: 0.4920 - val_accuracy: 0.8772\n",
      "Epoch 31/1000\n",
      "18/29 [=================>............] - ETA: 0s - loss: 0.7279 - accuracy: 0.6832\n",
      "Epoch 31: saving model to model/keypoint_classifier\\keypoint_classifier.hdf5\n",
      "29/29 [==============================] - 0s 8ms/step - loss: 0.7305 - accuracy: 0.6813 - val_loss: 0.4847 - val_accuracy: 0.8822\n",
      "Epoch 32/1000\n",
      "17/29 [================>.............] - ETA: 0s - loss: 0.7408 - accuracy: 0.6742\n",
      "Epoch 32: saving model to model/keypoint_classifier\\keypoint_classifier.hdf5\n",
      "29/29 [==============================] - 0s 6ms/step - loss: 0.7399 - accuracy: 0.6769 - val_loss: 0.4719 - val_accuracy: 0.8889\n",
      "Epoch 33/1000\n",
      "16/29 [===============>..............] - ETA: 0s - loss: 0.7245 - accuracy: 0.6758\n",
      "Epoch 33: saving model to model/keypoint_classifier\\keypoint_classifier.hdf5\n",
      "29/29 [==============================] - 0s 8ms/step - loss: 0.7274 - accuracy: 0.6816 - val_loss: 0.4704 - val_accuracy: 0.8922\n",
      "Epoch 34/1000\n",
      "17/29 [================>.............] - ETA: 0s - loss: 0.7245 - accuracy: 0.6806\n",
      "Epoch 34: saving model to model/keypoint_classifier\\keypoint_classifier.hdf5\n",
      "29/29 [==============================] - 0s 6ms/step - loss: 0.7251 - accuracy: 0.6872 - val_loss: 0.4544 - val_accuracy: 0.8997\n",
      "Epoch 35/1000\n",
      "16/29 [===============>..............] - ETA: 0s - loss: 0.7349 - accuracy: 0.6816\n",
      "Epoch 35: saving model to model/keypoint_classifier\\keypoint_classifier.hdf5\n",
      "29/29 [==============================] - 0s 7ms/step - loss: 0.7368 - accuracy: 0.6833 - val_loss: 0.4486 - val_accuracy: 0.8989\n",
      "Epoch 36/1000\n",
      "16/29 [===============>..............] - ETA: 0s - loss: 0.7180 - accuracy: 0.6880\n",
      "Epoch 36: saving model to model/keypoint_classifier\\keypoint_classifier.hdf5\n",
      "29/29 [==============================] - 0s 7ms/step - loss: 0.7248 - accuracy: 0.6841 - val_loss: 0.4484 - val_accuracy: 0.8981\n",
      "Epoch 37/1000\n",
      "24/29 [=======================>......] - ETA: 0s - loss: 0.7171 - accuracy: 0.6943\n",
      "Epoch 37: saving model to model/keypoint_classifier\\keypoint_classifier.hdf5\n",
      "29/29 [==============================] - 0s 6ms/step - loss: 0.7139 - accuracy: 0.6967 - val_loss: 0.4419 - val_accuracy: 0.9039\n",
      "Epoch 38/1000\n",
      "19/29 [==================>...........] - ETA: 0s - loss: 0.7201 - accuracy: 0.6900\n",
      "Epoch 38: saving model to model/keypoint_classifier\\keypoint_classifier.hdf5\n",
      "29/29 [==============================] - 0s 6ms/step - loss: 0.7315 - accuracy: 0.6852 - val_loss: 0.4288 - val_accuracy: 0.9089\n",
      "Epoch 39/1000\n",
      "22/29 [=====================>........] - ETA: 0s - loss: 0.7084 - accuracy: 0.6900\n",
      "Epoch 39: saving model to model/keypoint_classifier\\keypoint_classifier.hdf5\n",
      "29/29 [==============================] - 0s 5ms/step - loss: 0.7048 - accuracy: 0.6933 - val_loss: 0.4273 - val_accuracy: 0.9014\n",
      "Epoch 40/1000\n",
      "17/29 [================>.............] - ETA: 0s - loss: 0.7123 - accuracy: 0.6935\n",
      "Epoch 40: saving model to model/keypoint_classifier\\keypoint_classifier.hdf5\n",
      "29/29 [==============================] - 0s 5ms/step - loss: 0.7148 - accuracy: 0.6903 - val_loss: 0.4182 - val_accuracy: 0.9148\n",
      "Epoch 41/1000\n",
      "13/29 [============>.................] - ETA: 0s - loss: 0.6674 - accuracy: 0.7290\n",
      "Epoch 41: saving model to model/keypoint_classifier\\keypoint_classifier.hdf5\n",
      "29/29 [==============================] - 0s 7ms/step - loss: 0.6835 - accuracy: 0.7120 - val_loss: 0.4090 - val_accuracy: 0.9173\n",
      "Epoch 42/1000\n",
      "27/29 [==========================>...] - ETA: 0s - loss: 0.6897 - accuracy: 0.7060\n",
      "Epoch 42: saving model to model/keypoint_classifier\\keypoint_classifier.hdf5\n",
      "29/29 [==============================] - 0s 6ms/step - loss: 0.6900 - accuracy: 0.7061 - val_loss: 0.4017 - val_accuracy: 0.9156\n",
      "Epoch 43/1000\n",
      "25/29 [========================>.....] - ETA: 0s - loss: 0.6752 - accuracy: 0.7122\n",
      "Epoch 43: saving model to model/keypoint_classifier\\keypoint_classifier.hdf5\n",
      "29/29 [==============================] - 0s 10ms/step - loss: 0.6756 - accuracy: 0.7114 - val_loss: 0.3935 - val_accuracy: 0.9173\n",
      "Epoch 44/1000\n",
      "29/29 [==============================] - ETA: 0s - loss: 0.6837 - accuracy: 0.7081\n",
      "Epoch 44: saving model to model/keypoint_classifier\\keypoint_classifier.hdf5\n",
      "29/29 [==============================] - 0s 7ms/step - loss: 0.6837 - accuracy: 0.7081 - val_loss: 0.3886 - val_accuracy: 0.9223\n",
      "Epoch 45/1000\n",
      "23/29 [======================>.......] - ETA: 0s - loss: 0.6780 - accuracy: 0.7266\n",
      "Epoch 45: saving model to model/keypoint_classifier\\keypoint_classifier.hdf5\n",
      "29/29 [==============================] - 0s 7ms/step - loss: 0.6789 - accuracy: 0.7267 - val_loss: 0.3862 - val_accuracy: 0.9223\n",
      "Epoch 46/1000\n",
      "20/29 [===================>..........] - ETA: 0s - loss: 0.6733 - accuracy: 0.7168\n",
      "Epoch 46: saving model to model/keypoint_classifier\\keypoint_classifier.hdf5\n",
      "29/29 [==============================] - 0s 7ms/step - loss: 0.6656 - accuracy: 0.7181 - val_loss: 0.3789 - val_accuracy: 0.9215\n",
      "Epoch 47/1000\n",
      "17/29 [================>.............] - ETA: 0s - loss: 0.6662 - accuracy: 0.7220\n",
      "Epoch 47: saving model to model/keypoint_classifier\\keypoint_classifier.hdf5\n",
      "29/29 [==============================] - 0s 6ms/step - loss: 0.6661 - accuracy: 0.7245 - val_loss: 0.3753 - val_accuracy: 0.9231\n",
      "Epoch 48/1000\n",
      "22/29 [=====================>........] - ETA: 0s - loss: 0.6757 - accuracy: 0.7177\n",
      "Epoch 48: saving model to model/keypoint_classifier\\keypoint_classifier.hdf5\n",
      "29/29 [==============================] - 0s 6ms/step - loss: 0.6754 - accuracy: 0.7142 - val_loss: 0.3734 - val_accuracy: 0.9215\n",
      "Epoch 49/1000\n",
      "23/29 [======================>.......] - ETA: 0s - loss: 0.6506 - accuracy: 0.7306\n",
      "Epoch 49: saving model to model/keypoint_classifier\\keypoint_classifier.hdf5\n",
      "29/29 [==============================] - 0s 5ms/step - loss: 0.6587 - accuracy: 0.7251 - val_loss: 0.3699 - val_accuracy: 0.9265\n",
      "Epoch 50/1000\n",
      "24/29 [=======================>......] - ETA: 0s - loss: 0.6424 - accuracy: 0.7347\n",
      "Epoch 50: saving model to model/keypoint_classifier\\keypoint_classifier.hdf5\n",
      "29/29 [==============================] - 0s 6ms/step - loss: 0.6469 - accuracy: 0.7326 - val_loss: 0.3586 - val_accuracy: 0.9248\n",
      "Epoch 51/1000\n",
      "23/29 [======================>.......] - ETA: 0s - loss: 0.6405 - accuracy: 0.7320\n",
      "Epoch 51: saving model to model/keypoint_classifier\\keypoint_classifier.hdf5\n",
      "29/29 [==============================] - 0s 6ms/step - loss: 0.6513 - accuracy: 0.7295 - val_loss: 0.3560 - val_accuracy: 0.9240\n",
      "Epoch 52/1000\n",
      "18/29 [=================>............] - ETA: 0s - loss: 0.6477 - accuracy: 0.7270\n",
      "Epoch 52: saving model to model/keypoint_classifier\\keypoint_classifier.hdf5\n",
      "29/29 [==============================] - 0s 6ms/step - loss: 0.6565 - accuracy: 0.7234 - val_loss: 0.3557 - val_accuracy: 0.9256\n",
      "Epoch 53/1000\n",
      "18/29 [=================>............] - ETA: 0s - loss: 0.6429 - accuracy: 0.7387\n",
      "Epoch 53: saving model to model/keypoint_classifier\\keypoint_classifier.hdf5\n",
      "29/29 [==============================] - 0s 6ms/step - loss: 0.6527 - accuracy: 0.7329 - val_loss: 0.3507 - val_accuracy: 0.9265\n",
      "Epoch 54/1000\n",
      "14/29 [=============>................] - ETA: 0s - loss: 0.6261 - accuracy: 0.7366\n",
      "Epoch 54: saving model to model/keypoint_classifier\\keypoint_classifier.hdf5\n",
      "29/29 [==============================] - 0s 6ms/step - loss: 0.6421 - accuracy: 0.7306 - val_loss: 0.3502 - val_accuracy: 0.9256\n",
      "Epoch 55/1000\n",
      "25/29 [========================>.....] - ETA: 0s - loss: 0.6246 - accuracy: 0.7347\n",
      "Epoch 55: saving model to model/keypoint_classifier\\keypoint_classifier.hdf5\n",
      "29/29 [==============================] - 0s 8ms/step - loss: 0.6296 - accuracy: 0.7337 - val_loss: 0.3447 - val_accuracy: 0.9315\n",
      "Epoch 56/1000\n",
      "27/29 [==========================>...] - ETA: 0s - loss: 0.6440 - accuracy: 0.7376\n",
      "Epoch 56: saving model to model/keypoint_classifier\\keypoint_classifier.hdf5\n",
      "29/29 [==============================] - 0s 9ms/step - loss: 0.6460 - accuracy: 0.7362 - val_loss: 0.3366 - val_accuracy: 0.9332\n",
      "Epoch 57/1000\n",
      "13/29 [============>.................] - ETA: 0s - loss: 0.6326 - accuracy: 0.7458\n",
      "Epoch 57: saving model to model/keypoint_classifier\\keypoint_classifier.hdf5\n",
      "29/29 [==============================] - 0s 8ms/step - loss: 0.6329 - accuracy: 0.7396 - val_loss: 0.3381 - val_accuracy: 0.9357\n",
      "Epoch 58/1000\n",
      "20/29 [===================>..........] - ETA: 0s - loss: 0.6201 - accuracy: 0.7395\n",
      "Epoch 58: saving model to model/keypoint_classifier\\keypoint_classifier.hdf5\n",
      "29/29 [==============================] - 0s 6ms/step - loss: 0.6213 - accuracy: 0.7396 - val_loss: 0.3358 - val_accuracy: 0.9365\n",
      "Epoch 59/1000\n",
      "23/29 [======================>.......] - ETA: 0s - loss: 0.6321 - accuracy: 0.7435\n",
      "Epoch 59: saving model to model/keypoint_classifier\\keypoint_classifier.hdf5\n",
      "29/29 [==============================] - 0s 6ms/step - loss: 0.6296 - accuracy: 0.7448 - val_loss: 0.3346 - val_accuracy: 0.9424\n",
      "Epoch 60/1000\n",
      "18/29 [=================>............] - ETA: 0s - loss: 0.6160 - accuracy: 0.7444\n",
      "Epoch 60: saving model to model/keypoint_classifier\\keypoint_classifier.hdf5\n",
      "29/29 [==============================] - 0s 6ms/step - loss: 0.6219 - accuracy: 0.7412 - val_loss: 0.3362 - val_accuracy: 0.9424\n",
      "Epoch 61/1000\n",
      "16/29 [===============>..............] - ETA: 0s - loss: 0.6026 - accuracy: 0.7520\n",
      "Epoch 61: saving model to model/keypoint_classifier\\keypoint_classifier.hdf5\n",
      "29/29 [==============================] - 0s 7ms/step - loss: 0.6016 - accuracy: 0.7579 - val_loss: 0.3285 - val_accuracy: 0.9365\n",
      "Epoch 62/1000\n",
      "27/29 [==========================>...] - ETA: 0s - loss: 0.6115 - accuracy: 0.7477\n",
      "Epoch 62: saving model to model/keypoint_classifier\\keypoint_classifier.hdf5\n",
      "29/29 [==============================] - 0s 7ms/step - loss: 0.6137 - accuracy: 0.7476 - val_loss: 0.3182 - val_accuracy: 0.9407\n",
      "Epoch 63/1000\n",
      "20/29 [===================>..........] - ETA: 0s - loss: 0.6087 - accuracy: 0.7488\n",
      "Epoch 63: saving model to model/keypoint_classifier\\keypoint_classifier.hdf5\n",
      "29/29 [==============================] - 0s 6ms/step - loss: 0.6174 - accuracy: 0.7426 - val_loss: 0.3248 - val_accuracy: 0.9373\n",
      "Epoch 64/1000\n",
      "14/29 [=============>................] - ETA: 0s - loss: 0.5988 - accuracy: 0.7584\n",
      "Epoch 64: saving model to model/keypoint_classifier\\keypoint_classifier.hdf5\n",
      "29/29 [==============================] - 0s 7ms/step - loss: 0.5917 - accuracy: 0.7602 - val_loss: 0.3104 - val_accuracy: 0.9382\n",
      "Epoch 65/1000\n",
      "16/29 [===============>..............] - ETA: 0s - loss: 0.6234 - accuracy: 0.7368\n",
      "Epoch 65: saving model to model/keypoint_classifier\\keypoint_classifier.hdf5\n",
      "29/29 [==============================] - 0s 6ms/step - loss: 0.6199 - accuracy: 0.7415 - val_loss: 0.3084 - val_accuracy: 0.9424\n",
      "Epoch 66/1000\n",
      "29/29 [==============================] - ETA: 0s - loss: 0.5886 - accuracy: 0.7646\n",
      "Epoch 66: saving model to model/keypoint_classifier\\keypoint_classifier.hdf5\n",
      "29/29 [==============================] - 0s 8ms/step - loss: 0.5886 - accuracy: 0.7646 - val_loss: 0.3072 - val_accuracy: 0.9474\n",
      "Epoch 67/1000\n",
      "16/29 [===============>..............] - ETA: 0s - loss: 0.6217 - accuracy: 0.7480\n",
      "Epoch 67: saving model to model/keypoint_classifier\\keypoint_classifier.hdf5\n",
      "29/29 [==============================] - 0s 7ms/step - loss: 0.6028 - accuracy: 0.7557 - val_loss: 0.3020 - val_accuracy: 0.9474\n",
      "Epoch 68/1000\n",
      "21/29 [====================>.........] - ETA: 0s - loss: 0.6022 - accuracy: 0.7489\n",
      "Epoch 68: saving model to model/keypoint_classifier\\keypoint_classifier.hdf5\n",
      "29/29 [==============================] - 0s 6ms/step - loss: 0.5983 - accuracy: 0.7540 - val_loss: 0.3069 - val_accuracy: 0.9440\n",
      "Epoch 69/1000\n",
      "15/29 [==============>...............] - ETA: 0s - loss: 0.6081 - accuracy: 0.7594\n",
      "Epoch 69: saving model to model/keypoint_classifier\\keypoint_classifier.hdf5\n",
      "29/29 [==============================] - 0s 7ms/step - loss: 0.6052 - accuracy: 0.7524 - val_loss: 0.3029 - val_accuracy: 0.9474\n",
      "Epoch 70/1000\n",
      "15/29 [==============>...............] - ETA: 0s - loss: 0.5960 - accuracy: 0.7552\n",
      "Epoch 70: saving model to model/keypoint_classifier\\keypoint_classifier.hdf5\n",
      "29/29 [==============================] - 0s 6ms/step - loss: 0.6011 - accuracy: 0.7557 - val_loss: 0.2984 - val_accuracy: 0.9490\n",
      "Epoch 71/1000\n",
      "19/29 [==================>...........] - ETA: 0s - loss: 0.5938 - accuracy: 0.7541\n",
      "Epoch 71: saving model to model/keypoint_classifier\\keypoint_classifier.hdf5\n",
      "29/29 [==============================] - 0s 6ms/step - loss: 0.5978 - accuracy: 0.7543 - val_loss: 0.2972 - val_accuracy: 0.9474\n",
      "Epoch 72/1000\n",
      "23/29 [======================>.......] - ETA: 0s - loss: 0.6024 - accuracy: 0.7493\n",
      "Epoch 72: saving model to model/keypoint_classifier\\keypoint_classifier.hdf5\n",
      "29/29 [==============================] - 0s 6ms/step - loss: 0.5934 - accuracy: 0.7571 - val_loss: 0.2958 - val_accuracy: 0.9482\n",
      "Epoch 73/1000\n",
      "18/29 [=================>............] - ETA: 0s - loss: 0.5881 - accuracy: 0.7595\n",
      "Epoch 73: saving model to model/keypoint_classifier\\keypoint_classifier.hdf5\n",
      "29/29 [==============================] - 0s 8ms/step - loss: 0.5887 - accuracy: 0.7591 - val_loss: 0.2936 - val_accuracy: 0.9432\n",
      "Epoch 74/1000\n",
      "24/29 [=======================>......] - ETA: 0s - loss: 0.5872 - accuracy: 0.7549\n",
      "Epoch 74: saving model to model/keypoint_classifier\\keypoint_classifier.hdf5\n",
      "29/29 [==============================] - 0s 7ms/step - loss: 0.5887 - accuracy: 0.7540 - val_loss: 0.2905 - val_accuracy: 0.9507\n",
      "Epoch 75/1000\n",
      "19/29 [==================>...........] - ETA: 0s - loss: 0.5964 - accuracy: 0.7590\n",
      "Epoch 75: saving model to model/keypoint_classifier\\keypoint_classifier.hdf5\n",
      "29/29 [==============================] - 0s 6ms/step - loss: 0.5925 - accuracy: 0.7618 - val_loss: 0.2898 - val_accuracy: 0.9515\n",
      "Epoch 76/1000\n",
      "20/29 [===================>..........] - ETA: 0s - loss: 0.5756 - accuracy: 0.7754\n",
      "Epoch 76: saving model to model/keypoint_classifier\\keypoint_classifier.hdf5\n",
      "29/29 [==============================] - 0s 6ms/step - loss: 0.5706 - accuracy: 0.7766 - val_loss: 0.2844 - val_accuracy: 0.9465\n",
      "Epoch 77/1000\n",
      "20/29 [===================>..........] - ETA: 0s - loss: 0.5513 - accuracy: 0.7801\n",
      "Epoch 77: saving model to model/keypoint_classifier\\keypoint_classifier.hdf5\n",
      "29/29 [==============================] - 0s 6ms/step - loss: 0.5631 - accuracy: 0.7741 - val_loss: 0.2876 - val_accuracy: 0.9474\n",
      "Epoch 78/1000\n",
      "19/29 [==================>...........] - ETA: 0s - loss: 0.6048 - accuracy: 0.7521\n",
      "Epoch 78: saving model to model/keypoint_classifier\\keypoint_classifier.hdf5\n",
      "29/29 [==============================] - 0s 6ms/step - loss: 0.6097 - accuracy: 0.7532 - val_loss: 0.2792 - val_accuracy: 0.9490\n",
      "Epoch 79/1000\n",
      "23/29 [======================>.......] - ETA: 0s - loss: 0.6116 - accuracy: 0.7483\n",
      "Epoch 79: saving model to model/keypoint_classifier\\keypoint_classifier.hdf5\n",
      "29/29 [==============================] - 0s 6ms/step - loss: 0.6008 - accuracy: 0.7554 - val_loss: 0.2842 - val_accuracy: 0.9549\n",
      "Epoch 80/1000\n",
      "18/29 [=================>............] - ETA: 0s - loss: 0.5928 - accuracy: 0.7604\n",
      "Epoch 80: saving model to model/keypoint_classifier\\keypoint_classifier.hdf5\n",
      "29/29 [==============================] - 0s 6ms/step - loss: 0.5895 - accuracy: 0.7635 - val_loss: 0.2847 - val_accuracy: 0.9507\n",
      "Epoch 81/1000\n",
      "12/29 [===========>..................] - ETA: 0s - loss: 0.5743 - accuracy: 0.7728\n",
      "Epoch 81: saving model to model/keypoint_classifier\\keypoint_classifier.hdf5\n",
      "29/29 [==============================] - 0s 7ms/step - loss: 0.5688 - accuracy: 0.7741 - val_loss: 0.2810 - val_accuracy: 0.9524\n",
      "Epoch 82/1000\n",
      "18/29 [=================>............] - ETA: 0s - loss: 0.5850 - accuracy: 0.7682\n",
      "Epoch 82: saving model to model/keypoint_classifier\\keypoint_classifier.hdf5\n",
      "29/29 [==============================] - 0s 5ms/step - loss: 0.5894 - accuracy: 0.7616 - val_loss: 0.2769 - val_accuracy: 0.9566\n",
      "Epoch 83/1000\n",
      "20/29 [===================>..........] - ETA: 0s - loss: 0.5645 - accuracy: 0.7750\n",
      "Epoch 83: saving model to model/keypoint_classifier\\keypoint_classifier.hdf5\n",
      "29/29 [==============================] - 0s 6ms/step - loss: 0.5764 - accuracy: 0.7660 - val_loss: 0.2860 - val_accuracy: 0.9474\n",
      "Epoch 84/1000\n",
      "24/29 [=======================>......] - ETA: 0s - loss: 0.5727 - accuracy: 0.7679\n",
      "Epoch 84: saving model to model/keypoint_classifier\\keypoint_classifier.hdf5\n",
      "29/29 [==============================] - 0s 6ms/step - loss: 0.5712 - accuracy: 0.7680 - val_loss: 0.2857 - val_accuracy: 0.9557\n",
      "Epoch 85/1000\n",
      "15/29 [==============>...............] - ETA: 0s - loss: 0.5693 - accuracy: 0.7776\n",
      "Epoch 85: saving model to model/keypoint_classifier\\keypoint_classifier.hdf5\n",
      "29/29 [==============================] - 0s 6ms/step - loss: 0.5633 - accuracy: 0.7841 - val_loss: 0.2745 - val_accuracy: 0.9524\n",
      "Epoch 86/1000\n",
      "21/29 [====================>.........] - ETA: 0s - loss: 0.5711 - accuracy: 0.7679\n",
      "Epoch 86: saving model to model/keypoint_classifier\\keypoint_classifier.hdf5\n",
      "29/29 [==============================] - 0s 5ms/step - loss: 0.5738 - accuracy: 0.7724 - val_loss: 0.2688 - val_accuracy: 0.9557\n",
      "Epoch 87/1000\n",
      "27/29 [==========================>...] - ETA: 0s - loss: 0.5589 - accuracy: 0.7760\n",
      "Epoch 87: saving model to model/keypoint_classifier\\keypoint_classifier.hdf5\n",
      "29/29 [==============================] - 0s 6ms/step - loss: 0.5603 - accuracy: 0.7741 - val_loss: 0.2720 - val_accuracy: 0.9591\n",
      "Epoch 88/1000\n",
      "19/29 [==================>...........] - ETA: 0s - loss: 0.5376 - accuracy: 0.7800\n",
      "Epoch 88: saving model to model/keypoint_classifier\\keypoint_classifier.hdf5\n",
      "29/29 [==============================] - 0s 6ms/step - loss: 0.5507 - accuracy: 0.7777 - val_loss: 0.2688 - val_accuracy: 0.9582\n",
      "Epoch 89/1000\n",
      "22/29 [=====================>........] - ETA: 0s - loss: 0.5636 - accuracy: 0.7770\n",
      "Epoch 89: saving model to model/keypoint_classifier\\keypoint_classifier.hdf5\n",
      "29/29 [==============================] - 0s 8ms/step - loss: 0.5583 - accuracy: 0.7772 - val_loss: 0.2667 - val_accuracy: 0.9566\n",
      "Epoch 90/1000\n",
      "25/29 [========================>.....] - ETA: 0s - loss: 0.5782 - accuracy: 0.7638\n",
      "Epoch 90: saving model to model/keypoint_classifier\\keypoint_classifier.hdf5\n",
      "29/29 [==============================] - 0s 6ms/step - loss: 0.5788 - accuracy: 0.7646 - val_loss: 0.2636 - val_accuracy: 0.9582\n",
      "Epoch 91/1000\n",
      "23/29 [======================>.......] - ETA: 0s - loss: 0.5394 - accuracy: 0.7877\n",
      "Epoch 91: saving model to model/keypoint_classifier\\keypoint_classifier.hdf5\n",
      "29/29 [==============================] - 0s 6ms/step - loss: 0.5364 - accuracy: 0.7891 - val_loss: 0.2625 - val_accuracy: 0.9566\n",
      "Epoch 92/1000\n",
      "21/29 [====================>.........] - ETA: 0s - loss: 0.5573 - accuracy: 0.7768\n",
      "Epoch 92: saving model to model/keypoint_classifier\\keypoint_classifier.hdf5\n",
      "29/29 [==============================] - 0s 6ms/step - loss: 0.5527 - accuracy: 0.7749 - val_loss: 0.2631 - val_accuracy: 0.9507\n",
      "Epoch 93/1000\n",
      "20/29 [===================>..........] - ETA: 0s - loss: 0.5535 - accuracy: 0.7754\n",
      "Epoch 93: saving model to model/keypoint_classifier\\keypoint_classifier.hdf5\n",
      "29/29 [==============================] - 0s 7ms/step - loss: 0.5473 - accuracy: 0.7791 - val_loss: 0.2634 - val_accuracy: 0.9524\n",
      "Epoch 94/1000\n",
      "19/29 [==================>...........] - ETA: 0s - loss: 0.5426 - accuracy: 0.7891\n",
      "Epoch 94: saving model to model/keypoint_classifier\\keypoint_classifier.hdf5\n",
      "29/29 [==============================] - 0s 6ms/step - loss: 0.5321 - accuracy: 0.7908 - val_loss: 0.2589 - val_accuracy: 0.9557\n",
      "Epoch 95/1000\n",
      "18/29 [=================>............] - ETA: 0s - loss: 0.5295 - accuracy: 0.7878\n",
      "Epoch 95: saving model to model/keypoint_classifier\\keypoint_classifier.hdf5\n",
      "29/29 [==============================] - 0s 6ms/step - loss: 0.5326 - accuracy: 0.7905 - val_loss: 0.2580 - val_accuracy: 0.9515\n",
      "Epoch 96/1000\n",
      "15/29 [==============>...............] - ETA: 0s - loss: 0.5532 - accuracy: 0.7911\n",
      "Epoch 96: saving model to model/keypoint_classifier\\keypoint_classifier.hdf5\n",
      "29/29 [==============================] - 0s 7ms/step - loss: 0.5461 - accuracy: 0.7864 - val_loss: 0.2605 - val_accuracy: 0.9599\n",
      "Epoch 97/1000\n",
      "23/29 [======================>.......] - ETA: 0s - loss: 0.5573 - accuracy: 0.7755\n",
      "Epoch 97: saving model to model/keypoint_classifier\\keypoint_classifier.hdf5\n",
      "29/29 [==============================] - 0s 6ms/step - loss: 0.5619 - accuracy: 0.7752 - val_loss: 0.2609 - val_accuracy: 0.9574\n",
      "Epoch 98/1000\n",
      "16/29 [===============>..............] - ETA: 0s - loss: 0.5401 - accuracy: 0.7881\n",
      "Epoch 98: saving model to model/keypoint_classifier\\keypoint_classifier.hdf5\n",
      "29/29 [==============================] - 0s 7ms/step - loss: 0.5565 - accuracy: 0.7772 - val_loss: 0.2666 - val_accuracy: 0.9541\n",
      "Epoch 99/1000\n",
      "29/29 [==============================] - ETA: 0s - loss: 0.5486 - accuracy: 0.7897\n",
      "Epoch 99: saving model to model/keypoint_classifier\\keypoint_classifier.hdf5\n",
      "29/29 [==============================] - 1s 23ms/step - loss: 0.5486 - accuracy: 0.7897 - val_loss: 0.2645 - val_accuracy: 0.9599\n",
      "Epoch 100/1000\n",
      "24/29 [=======================>......] - ETA: 0s - loss: 0.5340 - accuracy: 0.8005\n",
      "Epoch 100: saving model to model/keypoint_classifier\\keypoint_classifier.hdf5\n",
      "29/29 [==============================] - 0s 12ms/step - loss: 0.5352 - accuracy: 0.7986 - val_loss: 0.2550 - val_accuracy: 0.9624\n",
      "Epoch 101/1000\n",
      "29/29 [==============================] - ETA: 0s - loss: 0.5408 - accuracy: 0.7838\n",
      "Epoch 101: saving model to model/keypoint_classifier\\keypoint_classifier.hdf5\n",
      "29/29 [==============================] - 0s 11ms/step - loss: 0.5408 - accuracy: 0.7838 - val_loss: 0.2541 - val_accuracy: 0.9582\n",
      "Epoch 102/1000\n",
      "17/29 [================>.............] - ETA: 0s - loss: 0.5362 - accuracy: 0.7858\n",
      "Epoch 102: saving model to model/keypoint_classifier\\keypoint_classifier.hdf5\n",
      "29/29 [==============================] - 0s 11ms/step - loss: 0.5268 - accuracy: 0.7869 - val_loss: 0.2542 - val_accuracy: 0.9549\n",
      "Epoch 103/1000\n",
      "28/29 [===========================>..] - ETA: 0s - loss: 0.5390 - accuracy: 0.7930\n",
      "Epoch 103: saving model to model/keypoint_classifier\\keypoint_classifier.hdf5\n",
      "29/29 [==============================] - 0s 13ms/step - loss: 0.5391 - accuracy: 0.7930 - val_loss: 0.2508 - val_accuracy: 0.9541\n",
      "Epoch 104/1000\n",
      "26/29 [=========================>....] - ETA: 0s - loss: 0.5337 - accuracy: 0.7921\n",
      "Epoch 104: saving model to model/keypoint_classifier\\keypoint_classifier.hdf5\n",
      "29/29 [==============================] - 0s 16ms/step - loss: 0.5326 - accuracy: 0.7919 - val_loss: 0.2493 - val_accuracy: 0.9574\n",
      "Epoch 105/1000\n",
      "20/29 [===================>..........] - ETA: 0s - loss: 0.5216 - accuracy: 0.7992\n",
      "Epoch 105: saving model to model/keypoint_classifier\\keypoint_classifier.hdf5\n",
      "29/29 [==============================] - 0s 14ms/step - loss: 0.5235 - accuracy: 0.7958 - val_loss: 0.2405 - val_accuracy: 0.9599\n",
      "Epoch 106/1000\n",
      "21/29 [====================>.........] - ETA: 0s - loss: 0.5435 - accuracy: 0.7772\n",
      "Epoch 106: saving model to model/keypoint_classifier\\keypoint_classifier.hdf5\n",
      "29/29 [==============================] - 0s 11ms/step - loss: 0.5342 - accuracy: 0.7819 - val_loss: 0.2421 - val_accuracy: 0.9574\n",
      "Epoch 107/1000\n",
      "24/29 [=======================>......] - ETA: 0s - loss: 0.5191 - accuracy: 0.8014\n",
      "Epoch 107: saving model to model/keypoint_classifier\\keypoint_classifier.hdf5\n",
      "29/29 [==============================] - 0s 11ms/step - loss: 0.5275 - accuracy: 0.7986 - val_loss: 0.2448 - val_accuracy: 0.9532\n",
      "Epoch 108/1000\n",
      "22/29 [=====================>........] - ETA: 0s - loss: 0.5317 - accuracy: 0.7923\n",
      "Epoch 108: saving model to model/keypoint_classifier\\keypoint_classifier.hdf5\n",
      "29/29 [==============================] - 0s 11ms/step - loss: 0.5399 - accuracy: 0.7903 - val_loss: 0.2495 - val_accuracy: 0.9524\n",
      "Epoch 109/1000\n",
      "28/29 [===========================>..] - ETA: 0s - loss: 0.5355 - accuracy: 0.7871\n",
      "Epoch 109: saving model to model/keypoint_classifier\\keypoint_classifier.hdf5\n",
      "29/29 [==============================] - 0s 12ms/step - loss: 0.5359 - accuracy: 0.7869 - val_loss: 0.2481 - val_accuracy: 0.9557\n",
      "Epoch 110/1000\n",
      "20/29 [===================>..........] - ETA: 0s - loss: 0.5469 - accuracy: 0.7871\n",
      "Epoch 110: saving model to model/keypoint_classifier\\keypoint_classifier.hdf5\n",
      "29/29 [==============================] - 0s 13ms/step - loss: 0.5441 - accuracy: 0.7897 - val_loss: 0.2432 - val_accuracy: 0.9607\n",
      "Epoch 111/1000\n",
      "24/29 [=======================>......] - ETA: 0s - loss: 0.5312 - accuracy: 0.7962\n",
      "Epoch 111: saving model to model/keypoint_classifier\\keypoint_classifier.hdf5\n",
      "29/29 [==============================] - 0s 11ms/step - loss: 0.5231 - accuracy: 0.8006 - val_loss: 0.2449 - val_accuracy: 0.9574\n",
      "Epoch 112/1000\n",
      "22/29 [=====================>........] - ETA: 0s - loss: 0.5339 - accuracy: 0.7869\n",
      "Epoch 112: saving model to model/keypoint_classifier\\keypoint_classifier.hdf5\n",
      "29/29 [==============================] - 0s 11ms/step - loss: 0.5341 - accuracy: 0.7889 - val_loss: 0.2435 - val_accuracy: 0.9532\n",
      "Epoch 113/1000\n",
      "23/29 [======================>.......] - ETA: 0s - loss: 0.5229 - accuracy: 0.7959\n",
      "Epoch 113: saving model to model/keypoint_classifier\\keypoint_classifier.hdf5\n",
      "29/29 [==============================] - 0s 11ms/step - loss: 0.5105 - accuracy: 0.8011 - val_loss: 0.2390 - val_accuracy: 0.9582\n",
      "Epoch 114/1000\n",
      "19/29 [==================>...........] - ETA: 0s - loss: 0.5387 - accuracy: 0.7792\n",
      "Epoch 114: saving model to model/keypoint_classifier\\keypoint_classifier.hdf5\n",
      "29/29 [==============================] - 0s 12ms/step - loss: 0.5308 - accuracy: 0.7833 - val_loss: 0.2431 - val_accuracy: 0.9541\n",
      "Epoch 115/1000\n",
      "28/29 [===========================>..] - ETA: 0s - loss: 0.5419 - accuracy: 0.7907\n",
      "Epoch 115: saving model to model/keypoint_classifier\\keypoint_classifier.hdf5\n",
      "29/29 [==============================] - 0s 13ms/step - loss: 0.5430 - accuracy: 0.7905 - val_loss: 0.2452 - val_accuracy: 0.9582\n",
      "Epoch 116/1000\n",
      "28/29 [===========================>..] - ETA: 0s - loss: 0.5280 - accuracy: 0.7997\n",
      "Epoch 116: saving model to model/keypoint_classifier\\keypoint_classifier.hdf5\n",
      "29/29 [==============================] - 0s 17ms/step - loss: 0.5277 - accuracy: 0.8000 - val_loss: 0.2435 - val_accuracy: 0.9607\n",
      "Epoch 117/1000\n",
      "27/29 [==========================>...] - ETA: 0s - loss: 0.5351 - accuracy: 0.7934\n",
      "Epoch 117: saving model to model/keypoint_classifier\\keypoint_classifier.hdf5\n",
      "29/29 [==============================] - 1s 18ms/step - loss: 0.5401 - accuracy: 0.7919 - val_loss: 0.2448 - val_accuracy: 0.9532\n",
      "Epoch 118/1000\n",
      "26/29 [=========================>....] - ETA: 0s - loss: 0.5327 - accuracy: 0.7948\n",
      "Epoch 118: saving model to model/keypoint_classifier\\keypoint_classifier.hdf5\n",
      "29/29 [==============================] - 0s 12ms/step - loss: 0.5263 - accuracy: 0.7986 - val_loss: 0.2413 - val_accuracy: 0.9557\n",
      "Epoch 119/1000\n",
      "28/29 [===========================>..] - ETA: 0s - loss: 0.5165 - accuracy: 0.7983\n",
      "Epoch 119: saving model to model/keypoint_classifier\\keypoint_classifier.hdf5\n",
      "29/29 [==============================] - 0s 12ms/step - loss: 0.5160 - accuracy: 0.7986 - val_loss: 0.2360 - val_accuracy: 0.9566\n",
      "Epoch 120/1000\n",
      "20/29 [===================>..........] - ETA: 0s - loss: 0.5261 - accuracy: 0.7965\n",
      "Epoch 120: saving model to model/keypoint_classifier\\keypoint_classifier.hdf5\n",
      "29/29 [==============================] - 0s 11ms/step - loss: 0.5227 - accuracy: 0.7964 - val_loss: 0.2365 - val_accuracy: 0.9591\n",
      "Epoch 121/1000\n",
      "28/29 [===========================>..] - ETA: 0s - loss: 0.5420 - accuracy: 0.7840\n",
      "Epoch 121: saving model to model/keypoint_classifier\\keypoint_classifier.hdf5\n",
      "29/29 [==============================] - 0s 12ms/step - loss: 0.5420 - accuracy: 0.7841 - val_loss: 0.2377 - val_accuracy: 0.9557\n",
      "Epoch 122/1000\n",
      "28/29 [===========================>..] - ETA: 0s - loss: 0.4981 - accuracy: 0.8103\n",
      "Epoch 122: saving model to model/keypoint_classifier\\keypoint_classifier.hdf5\n",
      "29/29 [==============================] - 0s 12ms/step - loss: 0.4975 - accuracy: 0.8106 - val_loss: 0.2420 - val_accuracy: 0.9549\n",
      "Epoch 123/1000\n",
      "28/29 [===========================>..] - ETA: 0s - loss: 0.4885 - accuracy: 0.8089\n",
      "Epoch 123: saving model to model/keypoint_classifier\\keypoint_classifier.hdf5\n",
      "29/29 [==============================] - 0s 17ms/step - loss: 0.4883 - accuracy: 0.8092 - val_loss: 0.2305 - val_accuracy: 0.9574\n",
      "Epoch 124/1000\n",
      "27/29 [==========================>...] - ETA: 0s - loss: 0.5090 - accuracy: 0.8070\n",
      "Epoch 124: saving model to model/keypoint_classifier\\keypoint_classifier.hdf5\n",
      "29/29 [==============================] - 0s 9ms/step - loss: 0.5078 - accuracy: 0.8061 - val_loss: 0.2253 - val_accuracy: 0.9624\n",
      "Epoch 125/1000\n",
      "24/29 [=======================>......] - ETA: 0s - loss: 0.5191 - accuracy: 0.7992\n",
      "Epoch 125: saving model to model/keypoint_classifier\\keypoint_classifier.hdf5\n",
      "29/29 [==============================] - 0s 12ms/step - loss: 0.5170 - accuracy: 0.7986 - val_loss: 0.2347 - val_accuracy: 0.9582\n",
      "Epoch 126/1000\n",
      "21/29 [====================>.........] - ETA: 0s - loss: 0.5219 - accuracy: 0.7920\n",
      "Epoch 126: saving model to model/keypoint_classifier\\keypoint_classifier.hdf5\n",
      "29/29 [==============================] - 0s 12ms/step - loss: 0.5277 - accuracy: 0.7908 - val_loss: 0.2243 - val_accuracy: 0.9666\n",
      "Epoch 127/1000\n",
      "28/29 [===========================>..] - ETA: 0s - loss: 0.5229 - accuracy: 0.7966\n",
      "Epoch 127: saving model to model/keypoint_classifier\\keypoint_classifier.hdf5\n",
      "29/29 [==============================] - 0s 13ms/step - loss: 0.5228 - accuracy: 0.7967 - val_loss: 0.2286 - val_accuracy: 0.9632\n",
      "Epoch 128/1000\n",
      "26/29 [=========================>....] - ETA: 0s - loss: 0.5195 - accuracy: 0.7969\n",
      "Epoch 128: saving model to model/keypoint_classifier\\keypoint_classifier.hdf5\n",
      "29/29 [==============================] - 0s 12ms/step - loss: 0.5238 - accuracy: 0.7950 - val_loss: 0.2318 - val_accuracy: 0.9566\n",
      "Epoch 129/1000\n",
      "28/29 [===========================>..] - ETA: 0s - loss: 0.5187 - accuracy: 0.8019\n",
      "Epoch 129: saving model to model/keypoint_classifier\\keypoint_classifier.hdf5\n",
      "29/29 [==============================] - 0s 12ms/step - loss: 0.5195 - accuracy: 0.8017 - val_loss: 0.2299 - val_accuracy: 0.9582\n",
      "Epoch 130/1000\n",
      "20/29 [===================>..........] - ETA: 0s - loss: 0.5296 - accuracy: 0.7918\n",
      "Epoch 130: saving model to model/keypoint_classifier\\keypoint_classifier.hdf5\n",
      "29/29 [==============================] - 1s 18ms/step - loss: 0.5129 - accuracy: 0.7992 - val_loss: 0.2303 - val_accuracy: 0.9616\n",
      "Epoch 131/1000\n",
      "20/29 [===================>..........] - ETA: 0s - loss: 0.4999 - accuracy: 0.8074\n",
      "Epoch 131: saving model to model/keypoint_classifier\\keypoint_classifier.hdf5\n",
      "29/29 [==============================] - 0s 11ms/step - loss: 0.5057 - accuracy: 0.8058 - val_loss: 0.2334 - val_accuracy: 0.9616\n",
      "Epoch 132/1000\n",
      "22/29 [=====================>........] - ETA: 0s - loss: 0.5368 - accuracy: 0.7940\n",
      "Epoch 132: saving model to model/keypoint_classifier\\keypoint_classifier.hdf5\n",
      "29/29 [==============================] - 0s 12ms/step - loss: 0.5294 - accuracy: 0.7953 - val_loss: 0.2342 - val_accuracy: 0.9607\n",
      "Epoch 133/1000\n",
      "21/29 [====================>.........] - ETA: 0s - loss: 0.5154 - accuracy: 0.8002\n",
      "Epoch 133: saving model to model/keypoint_classifier\\keypoint_classifier.hdf5\n",
      "29/29 [==============================] - 0s 12ms/step - loss: 0.5093 - accuracy: 0.8033 - val_loss: 0.2270 - val_accuracy: 0.9607\n",
      "Epoch 134/1000\n",
      "21/29 [====================>.........] - ETA: 0s - loss: 0.5236 - accuracy: 0.7991\n",
      "Epoch 134: saving model to model/keypoint_classifier\\keypoint_classifier.hdf5\n",
      "29/29 [==============================] - 0s 11ms/step - loss: 0.5150 - accuracy: 0.8011 - val_loss: 0.2240 - val_accuracy: 0.9641\n",
      "Epoch 135/1000\n",
      "22/29 [=====================>........] - ETA: 0s - loss: 0.5028 - accuracy: 0.8079\n",
      "Epoch 135: saving model to model/keypoint_classifier\\keypoint_classifier.hdf5\n",
      "29/29 [==============================] - 0s 11ms/step - loss: 0.4961 - accuracy: 0.8111 - val_loss: 0.2243 - val_accuracy: 0.9607\n",
      "Epoch 136/1000\n",
      "22/29 [=====================>........] - ETA: 0s - loss: 0.4825 - accuracy: 0.8132\n",
      "Epoch 136: saving model to model/keypoint_classifier\\keypoint_classifier.hdf5\n",
      "29/29 [==============================] - 0s 11ms/step - loss: 0.4977 - accuracy: 0.8078 - val_loss: 0.2298 - val_accuracy: 0.9557\n",
      "Epoch 137/1000\n",
      "22/29 [=====================>........] - ETA: 0s - loss: 0.5203 - accuracy: 0.7990\n",
      "Epoch 137: saving model to model/keypoint_classifier\\keypoint_classifier.hdf5\n",
      "29/29 [==============================] - 0s 10ms/step - loss: 0.5171 - accuracy: 0.7989 - val_loss: 0.2253 - val_accuracy: 0.9607\n",
      "Epoch 138/1000\n",
      "25/29 [========================>.....] - ETA: 0s - loss: 0.5152 - accuracy: 0.8003\n",
      "Epoch 138: saving model to model/keypoint_classifier\\keypoint_classifier.hdf5\n",
      "29/29 [==============================] - 0s 10ms/step - loss: 0.5117 - accuracy: 0.8022 - val_loss: 0.2230 - val_accuracy: 0.9582\n",
      "Epoch 139/1000\n",
      "20/29 [===================>..........] - ETA: 0s - loss: 0.5071 - accuracy: 0.7965\n",
      "Epoch 139: saving model to model/keypoint_classifier\\keypoint_classifier.hdf5\n",
      "29/29 [==============================] - 0s 11ms/step - loss: 0.5056 - accuracy: 0.8011 - val_loss: 0.2237 - val_accuracy: 0.9582\n",
      "Epoch 140/1000\n",
      "22/29 [=====================>........] - ETA: 0s - loss: 0.5016 - accuracy: 0.8054\n",
      "Epoch 140: saving model to model/keypoint_classifier\\keypoint_classifier.hdf5\n",
      "29/29 [==============================] - 0s 11ms/step - loss: 0.4977 - accuracy: 0.8075 - val_loss: 0.2252 - val_accuracy: 0.9557\n",
      "Epoch 141/1000\n",
      "24/29 [=======================>......] - ETA: 0s - loss: 0.5119 - accuracy: 0.8086\n",
      "Epoch 141: saving model to model/keypoint_classifier\\keypoint_classifier.hdf5\n",
      "29/29 [==============================] - 0s 13ms/step - loss: 0.5137 - accuracy: 0.8067 - val_loss: 0.2198 - val_accuracy: 0.9599\n",
      "Epoch 142/1000\n",
      "23/29 [======================>.......] - ETA: 0s - loss: 0.5098 - accuracy: 0.8088\n",
      "Epoch 142: saving model to model/keypoint_classifier\\keypoint_classifier.hdf5\n",
      "29/29 [==============================] - 0s 11ms/step - loss: 0.5092 - accuracy: 0.8078 - val_loss: 0.2173 - val_accuracy: 0.9624\n",
      "Epoch 143/1000\n",
      "22/29 [=====================>........] - ETA: 0s - loss: 0.4920 - accuracy: 0.8001\n",
      "Epoch 143: saving model to model/keypoint_classifier\\keypoint_classifier.hdf5\n",
      "29/29 [==============================] - 0s 11ms/step - loss: 0.4934 - accuracy: 0.8050 - val_loss: 0.2177 - val_accuracy: 0.9599\n",
      "Epoch 144/1000\n",
      "24/29 [=======================>......] - ETA: 0s - loss: 0.5221 - accuracy: 0.8050\n",
      "Epoch 144: saving model to model/keypoint_classifier\\keypoint_classifier.hdf5\n",
      "29/29 [==============================] - 0s 11ms/step - loss: 0.5148 - accuracy: 0.8097 - val_loss: 0.2254 - val_accuracy: 0.9607\n",
      "Epoch 145/1000\n",
      "20/29 [===================>..........] - ETA: 0s - loss: 0.4830 - accuracy: 0.8207\n",
      "Epoch 145: saving model to model/keypoint_classifier\\keypoint_classifier.hdf5\n",
      "29/29 [==============================] - 0s 12ms/step - loss: 0.4932 - accuracy: 0.8125 - val_loss: 0.2269 - val_accuracy: 0.9616\n",
      "Epoch 146/1000\n",
      "21/29 [====================>.........] - ETA: 0s - loss: 0.5153 - accuracy: 0.8054\n",
      "Epoch 146: saving model to model/keypoint_classifier\\keypoint_classifier.hdf5\n",
      "29/29 [==============================] - 0s 11ms/step - loss: 0.5142 - accuracy: 0.8003 - val_loss: 0.2271 - val_accuracy: 0.9574\n",
      "Epoch 147/1000\n",
      "21/29 [====================>.........] - ETA: 0s - loss: 0.5205 - accuracy: 0.7984\n",
      "Epoch 147: saving model to model/keypoint_classifier\\keypoint_classifier.hdf5\n",
      "29/29 [==============================] - 0s 11ms/step - loss: 0.5077 - accuracy: 0.8050 - val_loss: 0.2366 - val_accuracy: 0.9541\n",
      "Epoch 148/1000\n",
      "24/29 [=======================>......] - ETA: 0s - loss: 0.5222 - accuracy: 0.7975\n",
      "Epoch 148: saving model to model/keypoint_classifier\\keypoint_classifier.hdf5\n",
      "29/29 [==============================] - 0s 10ms/step - loss: 0.5190 - accuracy: 0.8003 - val_loss: 0.2254 - val_accuracy: 0.9574\n",
      "Epoch 149/1000\n",
      "27/29 [==========================>...] - ETA: 0s - loss: 0.4912 - accuracy: 0.8113\n",
      "Epoch 149: saving model to model/keypoint_classifier\\keypoint_classifier.hdf5\n",
      "29/29 [==============================] - 0s 9ms/step - loss: 0.4894 - accuracy: 0.8106 - val_loss: 0.2232 - val_accuracy: 0.9641\n",
      "Epoch 150/1000\n",
      "24/29 [=======================>......] - ETA: 0s - loss: 0.5176 - accuracy: 0.8060\n",
      "Epoch 150: saving model to model/keypoint_classifier\\keypoint_classifier.hdf5\n",
      "29/29 [==============================] - 0s 9ms/step - loss: 0.5111 - accuracy: 0.8081 - val_loss: 0.2254 - val_accuracy: 0.9657\n",
      "Epoch 151/1000\n",
      "21/29 [====================>.........] - ETA: 0s - loss: 0.5192 - accuracy: 0.7950\n",
      "Epoch 151: saving model to model/keypoint_classifier\\keypoint_classifier.hdf5\n",
      "29/29 [==============================] - 0s 11ms/step - loss: 0.5176 - accuracy: 0.7992 - val_loss: 0.2232 - val_accuracy: 0.9624\n",
      "Epoch 152/1000\n",
      "29/29 [==============================] - ETA: 0s - loss: 0.4934 - accuracy: 0.8131\n",
      "Epoch 152: saving model to model/keypoint_classifier\\keypoint_classifier.hdf5\n",
      "29/29 [==============================] - 0s 12ms/step - loss: 0.4934 - accuracy: 0.8131 - val_loss: 0.2211 - val_accuracy: 0.9649\n",
      "Epoch 153/1000\n",
      "21/29 [====================>.........] - ETA: 0s - loss: 0.4944 - accuracy: 0.8092\n",
      "Epoch 153: saving model to model/keypoint_classifier\\keypoint_classifier.hdf5\n",
      "29/29 [==============================] - 0s 11ms/step - loss: 0.4993 - accuracy: 0.8058 - val_loss: 0.2203 - val_accuracy: 0.9607\n",
      "Epoch 154/1000\n",
      "22/29 [=====================>........] - ETA: 0s - loss: 0.4826 - accuracy: 0.8168\n",
      "Epoch 154: saving model to model/keypoint_classifier\\keypoint_classifier.hdf5\n",
      "29/29 [==============================] - 0s 12ms/step - loss: 0.5014 - accuracy: 0.8092 - val_loss: 0.2250 - val_accuracy: 0.9599\n",
      "Epoch 155/1000\n",
      "23/29 [======================>.......] - ETA: 0s - loss: 0.4971 - accuracy: 0.8105\n",
      "Epoch 155: saving model to model/keypoint_classifier\\keypoint_classifier.hdf5\n",
      "29/29 [==============================] - 0s 11ms/step - loss: 0.4908 - accuracy: 0.8131 - val_loss: 0.2227 - val_accuracy: 0.9607\n",
      "Epoch 156/1000\n",
      "23/29 [======================>.......] - ETA: 0s - loss: 0.5025 - accuracy: 0.8074\n",
      "Epoch 156: saving model to model/keypoint_classifier\\keypoint_classifier.hdf5\n",
      "29/29 [==============================] - 0s 10ms/step - loss: 0.4964 - accuracy: 0.8111 - val_loss: 0.2178 - val_accuracy: 0.9632\n",
      "Epoch 157/1000\n",
      "22/29 [=====================>........] - ETA: 0s - loss: 0.5007 - accuracy: 0.7997\n",
      "Epoch 157: saving model to model/keypoint_classifier\\keypoint_classifier.hdf5\n",
      "29/29 [==============================] - 0s 11ms/step - loss: 0.5030 - accuracy: 0.8039 - val_loss: 0.2261 - val_accuracy: 0.9582\n",
      "Epoch 158/1000\n",
      "18/29 [=================>............] - ETA: 0s - loss: 0.4731 - accuracy: 0.8220\n",
      "Epoch 158: saving model to model/keypoint_classifier\\keypoint_classifier.hdf5\n",
      "29/29 [==============================] - 0s 11ms/step - loss: 0.4802 - accuracy: 0.8192 - val_loss: 0.2191 - val_accuracy: 0.9582\n",
      "Epoch 159/1000\n",
      "25/29 [========================>.....] - ETA: 0s - loss: 0.5099 - accuracy: 0.8047\n",
      "Epoch 159: saving model to model/keypoint_classifier\\keypoint_classifier.hdf5\n",
      "29/29 [==============================] - 0s 14ms/step - loss: 0.5083 - accuracy: 0.8053 - val_loss: 0.2200 - val_accuracy: 0.9582\n",
      "Epoch 160/1000\n",
      "25/29 [========================>.....] - ETA: 0s - loss: 0.4815 - accuracy: 0.8147\n",
      "Epoch 160: saving model to model/keypoint_classifier\\keypoint_classifier.hdf5\n",
      "29/29 [==============================] - 0s 13ms/step - loss: 0.4790 - accuracy: 0.8153 - val_loss: 0.2191 - val_accuracy: 0.9599\n",
      "Epoch 161/1000\n",
      "26/29 [=========================>....] - ETA: 0s - loss: 0.4863 - accuracy: 0.8101\n",
      "Epoch 161: saving model to model/keypoint_classifier\\keypoint_classifier.hdf5\n",
      "29/29 [==============================] - 0s 17ms/step - loss: 0.4887 - accuracy: 0.8089 - val_loss: 0.2230 - val_accuracy: 0.9574\n",
      "Epoch 162/1000\n",
      "27/29 [==========================>...] - ETA: 0s - loss: 0.4838 - accuracy: 0.8171\n",
      "Epoch 162: saving model to model/keypoint_classifier\\keypoint_classifier.hdf5\n",
      "29/29 [==============================] - 1s 26ms/step - loss: 0.4892 - accuracy: 0.8128 - val_loss: 0.2178 - val_accuracy: 0.9574\n",
      "Epoch 162: early stopping\n"
     ]
    },
    {
     "data": {
      "text/plain": [
       "<keras.src.callbacks.History at 0x266ca8e3010>"
      ]
     },
     "execution_count": 11,
     "metadata": {},
     "output_type": "execute_result"
    }
   ],
   "source": [
    "model.fit(\n",
    "    X_train,\n",
    "    y_train,\n",
    "    epochs=1000,\n",
    "    batch_size=128,\n",
    "    validation_data=(X_test, y_test),\n",
    "    callbacks=[cp_callback, es_callback]\n",
    ")"
   ]
  },
  {
   "cell_type": "code",
   "execution_count": 12,
   "metadata": {
    "colab": {
     "base_uri": "https://localhost:8080/"
    },
    "id": "pxvb2Y299hE3",
    "outputId": "59eb3185-2e37-4b9e-bc9d-ab1b8ac29b7f"
   },
   "outputs": [
    {
     "name": "stdout",
     "output_type": "stream",
     "text": [
      "10/10 [==============================] - 0s 3ms/step - loss: 0.2178 - accuracy: 0.9574\n"
     ]
    }
   ],
   "source": [
    "# Model evaluation\n",
    "val_loss, val_acc = model.evaluate(X_test, y_test, batch_size=128)"
   ]
  },
  {
   "cell_type": "code",
   "execution_count": 13,
   "metadata": {
    "id": "RBkmDeUW9hE4"
   },
   "outputs": [],
   "source": [
    "# Loading the saved model\n",
    "model = tf.keras.models.load_model(model_save_path)"
   ]
  },
  {
   "cell_type": "code",
   "execution_count": 14,
   "metadata": {
    "colab": {
     "base_uri": "https://localhost:8080/"
    },
    "id": "tFz9Tb0I9hE4",
    "outputId": "1c3b3528-54ae-4ee2-ab04-77429211cbef"
   },
   "outputs": [
    {
     "name": "stdout",
     "output_type": "stream",
     "text": [
      "1/1 [==============================] - 1s 703ms/step\n",
      "[9.5135617e-01 4.8501998e-02 1.2049446e-04 2.1322274e-05 3.6233462e-08]\n",
      "0\n"
     ]
    }
   ],
   "source": [
    "# Inference test\n",
    "predict_result = model.predict(np.array([X_test[0]]))\n",
    "print(np.squeeze(predict_result))\n",
    "print(np.argmax(np.squeeze(predict_result)))"
   ]
  },
  {
   "cell_type": "markdown",
   "metadata": {
    "id": "S3U4yNWx9hE4"
   },
   "source": [
    "# Confusion matrix"
   ]
  },
  {
   "cell_type": "code",
   "execution_count": 15,
   "metadata": {
    "colab": {
     "base_uri": "https://localhost:8080/",
     "height": 582
    },
    "id": "AP1V6SCk9hE5",
    "outputId": "08e41a80-7a4a-4619-8125-ecc371368d19"
   },
   "outputs": [
    {
     "name": "stdout",
     "output_type": "stream",
     "text": [
      "38/38 [==============================] - 0s 4ms/step\n"
     ]
    },
    {
     "data": {
      "image/png": "[encoded data removed]",
      "text/plain": [
       "<Figure size 700x600 with 2 Axes>"
      ]
     },
     "metadata": {},
     "output_type": "display_data"
    },
    {
     "name": "stdout",
     "output_type": "stream",
     "text": [
      "Classification Report\n",
      "              precision    recall  f1-score   support\n",
      "\n",
      "           0       0.99      0.97      0.98       402\n",
      "           1       0.99      0.90      0.94       366\n",
      "           2       0.90      0.99      0.94       343\n",
      "           3       0.94      0.99      0.97        86\n",
      "\n",
      "    accuracy                           0.96      1197\n",
      "   macro avg       0.96      0.96      0.96      1197\n",
      "weighted avg       0.96      0.96      0.96      1197\n",
      "\n"
     ]
    }
   ],
   "source": [
    "import pandas as pd\n",
    "import seaborn as sns\n",
    "import matplotlib.pyplot as plt\n",
    "from sklearn.metrics import confusion_matrix, classification_report\n",
    "\n",
    "def print_confusion_matrix(y_true, y_pred, report=True):\n",
    "    labels = sorted(list(set(y_true)))\n",
    "    cmx_data = confusion_matrix(y_true, y_pred, labels=labels)\n",
    "    \n",
    "    df_cmx = pd.DataFrame(cmx_data, index=labels, columns=labels)\n",
    " \n",
    "    fig, ax = plt.subplots(figsize=(7, 6))\n",
    "    sns.heatmap(df_cmx, annot=True, fmt='g' ,square=False)\n",
    "    ax.set_ylim(len(set(y_true)), 0)\n",
    "    plt.show()\n",
    "    \n",
    "    if report:\n",
    "        print('Classification Report')\n",
    "        print(classification_report(y_test, y_pred))\n",
    "\n",
    "Y_pred = model.predict(X_test)\n",
    "y_pred = np.argmax(Y_pred, axis=1)\n",
    "\n",
    "print_confusion_matrix(y_test, y_pred)"
   ]
  },
  {
   "cell_type": "markdown",
   "metadata": {
    "id": "FNP6aqzc9hE5"
   },
   "source": [
    "# Convert to model for Tensorflow-Lite"
   ]
  },
  {
   "cell_type": "code",
   "execution_count": null,
   "metadata": {
    "id": "ODjnYyld9hE6"
   },
   "outputs": [],
   "source": [
    "# Save as a model dedicated to inference\n",
    "model.save(model_save_path, include_optimizer=False)"
   ]
  },
  {
   "cell_type": "code",
   "execution_count": null,
   "metadata": {
    "colab": {
     "base_uri": "https://localhost:8080/"
    },
    "id": "zRfuK8Y59hE6",
    "outputId": "a4ca585c-b5d5-4244-8291-8674063209bb"
   },
   "outputs": [
    {
     "name": "stdout",
     "output_type": "stream",
     "text": [
      "INFO:tensorflow:Assets written to: /tmp/tmpe5yx255p/assets\n"
     ]
    },
    {
     "data": {
      "text/plain": [
       "6352"
      ]
     },
     "execution_count": 17,
     "metadata": {
      "tags": []
     },
     "output_type": "execute_result"
    }
   ],
   "source": [
    "# Transform model (quantization)\n",
    "\n",
    "converter = tf.lite.TFLiteConverter.from_keras_model(model)\n",
    "converter.optimizations = [tf.lite.Optimize.DEFAULT]\n",
    "tflite_quantized_model = converter.convert()\n",
    "\n",
    "open(tflite_save_path, 'wb').write(tflite_quantized_model)"
   ]
  },
  {
   "cell_type": "markdown",
   "metadata": {
    "id": "CHBPBXdx9hE6"
   },
   "source": [
    "# Inference test"
   ]
  },
  {
   "cell_type": "code",
   "execution_count": null,
   "metadata": {
    "id": "mGAzLocO9hE7"
   },
   "outputs": [],
   "source": [
    "interpreter = tf.lite.Interpreter(model_path=tflite_save_path)\n",
    "interpreter.allocate_tensors()"
   ]
  },
  {
   "cell_type": "code",
   "execution_count": null,
   "metadata": {
    "id": "oQuDK8YS9hE7"
   },
   "outputs": [],
   "source": [
    "# Get I / O tensor\n",
    "input_details = interpreter.get_input_details()\n",
    "output_details = interpreter.get_output_details()"
   ]
  },
  {
   "cell_type": "code",
   "execution_count": null,
   "metadata": {
    "id": "2_ixAf_l9hE7"
   },
   "outputs": [],
   "source": [
    "interpreter.set_tensor(input_details[0]['index'], np.array([X_test[0]]))"
   ]
  },
  {
   "cell_type": "code",
   "execution_count": null,
   "metadata": {
    "colab": {
     "base_uri": "https://localhost:8080/"
    },
    "id": "s4FoAnuc9hE7",
    "outputId": "91f18257-8d8b-4ef3-c558-e9b5f94fabbf",
    "scrolled": true
   },
   "outputs": [
    {
     "name": "stdout",
     "output_type": "stream",
     "text": [
      "CPU times: user 131 µs, sys: 17 µs, total: 148 µs\n",
      "Wall time: 679 µs\n"
     ]
    }
   ],
   "source": [
    "%%time\n",
    "# Inference implementation\n",
    "interpreter.invoke()\n",
    "tflite_results = interpreter.get_tensor(output_details[0]['index'])"
   ]
  },
  {
   "cell_type": "code",
   "execution_count": null,
   "metadata": {
    "colab": {
     "base_uri": "https://localhost:8080/"
    },
    "id": "vONjp19J9hE8",
    "outputId": "77205e24-fd00-42c4-f7b6-e06e527c2cba"
   },
   "outputs": [
    {
     "name": "stdout",
     "output_type": "stream",
     "text": [
      "[9.8105639e-01 1.8674169e-02 2.2328216e-04 4.6191799e-05]\n",
      "0\n"
     ]
    }
   ],
   "source": [
    "print(np.squeeze(tflite_results))\n",
    "print(np.argmax(np.squeeze(tflite_results)))"
   ]
  }
 ],
 "metadata": {
  "accelerator": "GPU",
  "colab": {
   "collapsed_sections": [],
   "name": "keypoint_classification_EN.ipynb",
   "provenance": [],
   "toc_visible": true
  },
  "kernelspec": {
   "display_name": "Python 3",
   "language": "python",
   "name": "python3"
  },
  "language_info": {
   "codemirror_mode": {
    "name": "ipython",
    "version": 3
   },
   "file_extension": ".py",
   "mimetype": "text/x-python",
   "name": "python",
   "nbconvert_exporter": "python",
   "pygments_lexer": "ipython3",
   "version": "3.10.0"
  },
  "vscode": {
   "interpreter": {
    "hash": "b88c37f39d297e097da8104f95e3067aec44005792861ca611fc8d337c2f43dd"
   }
  }
 },
 "nbformat": 4,
 "nbformat_minor": 0
}
